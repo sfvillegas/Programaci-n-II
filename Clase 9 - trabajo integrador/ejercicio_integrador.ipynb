{
 "cells": [
  {
   "cell_type": "markdown",
   "metadata": {},
   "source": [
    "chatgpt"
   ]
  },
  {
   "cell_type": "code",
   "execution_count": 6,
   "metadata": {},
   "outputs": [],
   "source": [
    "class Empleado:\n",
    "    def __init__(self, nombre, salario):\n",
    "        self.nombre = nombre\n",
    "        self.salario = salario\n",
    "\n",
    "    def mostrar_informacion(self):\n",
    "        print(f\"Empleado: {self.nombre}, Salario: {self.salario}\")\n",
    "\n",
    "    def calcular_bono(self):\n",
    "        return self.salario * 0.10\n",
    "\n",
    "# Clase derivada Desarrollador\n",
    "class Desarrollador(Empleado):\n",
    "    def __init__(self, nombre, salario, nivel_habilidad):\n",
    "        super().__init__(nombre, salario)\n",
    "        self.nivel_habilidad = nivel_habilidad\n",
    "\n",
    "    def mostrar_informacion(self):\n",
    "        print(f\"Desarrollador: {self.nombre}, Salario: {self.salario}, Nivel de habilidad: {self.nivel_habilidad}\")\n",
    "\n",
    "    def calcular_bono(self):\n",
    "        return self.salario * 0.15"
   ]
  },
  {
   "cell_type": "code",
   "execution_count": 7,
   "metadata": {},
   "outputs": [],
   "source": [
    "class Gerente(Empleado):\n",
    "    def __init__(self, nombre, salario, equipo):\n",
    "        super().__init__(nombre, salario)\n",
    "        self.equipo = equipo\n",
    "\n",
    "    def mostrar_informacion(self):\n",
    "        print(f\"Gerente: {self.nombre}, Salario: {self.salario}\")\n",
    "        print(f\"Tiene {len(self.equipo)} empleados bajo su supervisión.\")\n",
    "\n",
    "    def calcular_bono(self):\n",
    "        return self.salario * 0.20"
   ]
  },
  {
   "cell_type": "code",
   "execution_count": 8,
   "metadata": {},
   "outputs": [],
   "source": [
    "empleado1 = Empleado(\"Carlos\", 2000)\n",
    "desarrollador1 = Desarrollador(\"Ana\", 3500, 4)\n",
    "gerente1 = Gerente(\"Lucía\", 5000, [empleado1, desarrollador1])"
   ]
  },
  {
   "cell_type": "code",
   "execution_count": 9,
   "metadata": {},
   "outputs": [],
   "source": [
    "empleados = [empleado1, desarrollador1, gerente1]"
   ]
  },
  {
   "cell_type": "code",
   "execution_count": 10,
   "metadata": {},
   "outputs": [
    {
     "name": "stdout",
     "output_type": "stream",
     "text": [
      "Empleado: Carlos, Salario: 2000\n",
      "Bono: 200.0\n",
      "\n",
      "Desarrollador: Ana, Salario: 3500, Nivel de habilidad: 4\n",
      "Bono: 525.0\n",
      "\n",
      "Gerente: Lucía, Salario: 5000\n",
      "Tiene 2 empleados bajo su supervisión.\n",
      "Bono: 1000.0\n",
      "\n"
     ]
    }
   ],
   "source": [
    "for empleado in empleados:\n",
    "    empleado.mostrar_informacion()\n",
    "    print(f\"Bono: {empleado.calcular_bono()}\\n\")"
   ]
  }
 ],
 "metadata": {
  "kernelspec": {
   "display_name": "Python 3",
   "language": "python",
   "name": "python3"
  },
  "language_info": {
   "codemirror_mode": {
    "name": "ipython",
    "version": 3
   },
   "file_extension": ".py",
   "mimetype": "text/x-python",
   "name": "python",
   "nbconvert_exporter": "python",
   "pygments_lexer": "ipython3",
   "version": "3.11.0"
  }
 },
 "nbformat": 4,
 "nbformat_minor": 2
}
