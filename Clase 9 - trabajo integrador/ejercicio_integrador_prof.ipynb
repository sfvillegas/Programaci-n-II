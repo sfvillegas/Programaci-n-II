{
 "cells": [
  {
   "cell_type": "markdown",
   "metadata": {},
   "source": [
    "Ejercicio: Sistema de Gestión de Empleados\n",
    "En este ejercicio, desarrollarás un sistema para gestionar diferentes tipos de empleados utilizando herencia y polimorfismo en Python.\n",
    "\n",
    "Descripción del Problema:\n",
    "\n",
    "La empresa tiene tres tipos de empleados:\n",
    "\n",
    "1. Empleado (clase base): Esta clase tendrá atributos y métodos comunes a todos los empleados.\n",
    "2. Desarrollador (clase derivada): Es un tipo específico de empleado que tiene un nivel de habilidades.\n",
    "3. Gerente (clase derivada): Es un tipo específico de empleado que tiene un equipo de empleados bajo su supervisión."
   ]
  },
  {
   "cell_type": "code",
   "execution_count": 1,
   "metadata": {},
   "outputs": [],
   "source": [
    "class Empleado:\n",
    "    def __init__(self,nombre,salario):\n",
    "        self.nombre = nombre\n",
    "        self.salario = salario\n",
    "    def mostrar_informacion(self):\n",
    "        print(f\"Nombre: {self.nombre}, Salario: {self.salario}\")\n",
    "    \n",
    "    def calcular_bono(self):\n",
    "        return self.salario * 0.10\n",
    "    \n",
    "class Desarrollador(Empleado):\n",
    "    def __init__(self, nombre, salario, nivel_habilidad):\n",
    "        super().__init__(nombre, salario)\n",
    "        self.nivel_habilidad = nivel_habilidad\n",
    "    def mostrar_informacion(self):\n",
    "        print(f\"Nivel de habilidad: {self.nivel_habilidad}\")\n",
    "           \n",
    "    def calcular_bono(self):\n",
    "        return self.salario * 0.15\n",
    "class Gerente(Empleado):\n",
    "    def __init__(self,nombre,salario,equipo):\n",
    "        super().__init__(nombre,salario)\n",
    "        self.equipo = equipo\n",
    "    def mostrar_informacion(self):\n",
    "        print(f\"Equipo: {len(self.equipo)} empleados\")\n",
    "        \n",
    "    def calcular_bono(self):\n",
    "        return self.salario * 0.20"
   ]
  },
  {
   "cell_type": "code",
   "execution_count": 2,
   "metadata": {},
   "outputs": [],
   "source": [
    "empleado1 = Empleado(\"Gonzalo\", 100000)\n"
   ]
  },
  {
   "cell_type": "code",
   "execution_count": 3,
   "metadata": {},
   "outputs": [],
   "source": [
    "while True:\n",
    "    nivel_hab =int(input(\"Ingrese un nivel de habilidad entre 1 y 5\"))\n",
    "    if nivel_hab >=1 and nivel_hab <=5:\n",
    "        break\n",
    "desarrollador1 = Desarrollador(\"Pedro\",250000,nivel_hab)"
   ]
  },
  {
   "cell_type": "code",
   "execution_count": 4,
   "metadata": {},
   "outputs": [
    {
     "name": "stdout",
     "output_type": "stream",
     "text": [
      "Nivel de habilidad: 4\n"
     ]
    }
   ],
   "source": [
    "desarrollador1.mostrar_informacion()\n"
   ]
  },
  {
   "cell_type": "code",
   "execution_count": 5,
   "metadata": {},
   "outputs": [],
   "source": [
    "gerente1=Gerente(\"Juan\",1000000,[empleado1,desarrollador1])"
   ]
  },
  {
   "cell_type": "code",
   "execution_count": 6,
   "metadata": {},
   "outputs": [
    {
     "name": "stdout",
     "output_type": "stream",
     "text": [
      "Equipo: 2 empleados\n"
     ]
    }
   ],
   "source": [
    "gerente1.mostrar_informacion()"
   ]
  },
  {
   "cell_type": "code",
   "execution_count": 7,
   "metadata": {},
   "outputs": [],
   "source": [
    "# Lista de empleados\n",
    "empleados = [empleado1, desarrollador1, gerente1]"
   ]
  },
  {
   "cell_type": "code",
   "execution_count": 8,
   "metadata": {},
   "outputs": [
    {
     "name": "stdout",
     "output_type": "stream",
     "text": [
      "Nombre: Gonzalo, Salario: 100000\n",
      "Bono: 10000.0\n",
      "\n",
      "Nivel de habilidad: 4\n",
      "Bono: 37500.0\n",
      "\n",
      "Equipo: 2 empleados\n",
      "Bono: 200000.0\n",
      "\n"
     ]
    }
   ],
   "source": [
    "for empleado in empleados:\n",
    "    empleado.mostrar_informacion()\n",
    "    print(f\"Bono: {empleado.calcular_bono()}\\n\")"
   ]
  }
 ],
 "metadata": {
  "kernelspec": {
   "display_name": "Python 3",
   "language": "python",
   "name": "python3"
  },
  "language_info": {
   "codemirror_mode": {
    "name": "ipython",
    "version": 3
   },
   "file_extension": ".py",
   "mimetype": "text/x-python",
   "name": "python",
   "nbconvert_exporter": "python",
   "pygments_lexer": "ipython3",
   "version": "3.11.0"
  }
 },
 "nbformat": 4,
 "nbformat_minor": 2
}
